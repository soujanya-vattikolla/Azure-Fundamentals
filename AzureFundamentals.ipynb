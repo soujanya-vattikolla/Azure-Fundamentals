{
  "nbformat": 4,
  "nbformat_minor": 0,
  "metadata": {
    "colab": {
      "name": "Azure Fundamentals.ipynb",
      "provenance": [],
      "collapsed_sections": [],
      "authorship_tag": "ABX9TyP00nQtF2WOY8/1qjVpuBVs",
      "include_colab_link": true
    },
    "kernelspec": {
      "name": "python3",
      "display_name": "Python 3"
    },
    "language_info": {
      "name": "python"
    }
  },
  "cells": [
    {
      "cell_type": "markdown",
      "metadata": {
        "id": "view-in-github",
        "colab_type": "text"
      },
      "source": [
        "<a href=\"https://colab.research.google.com/github/soujanya-vattikolla/Azure-Fundamentals/blob/main/AzureFundamentals.ipynb\" target=\"_parent\"><img src=\"https://colab.research.google.com/assets/colab-badge.svg\" alt=\"Open In Colab\"/></a>"
      ]
    },
    {
      "cell_type": "markdown",
      "source": [
        "**What is Cloud Computing?**"
      ],
      "metadata": {
        "id": "PA97F8jOwcS1"
      }
    },
    {
      "cell_type": "markdown",
      "source": [
        "Cloud computing \n",
        "\n",
        "The practice of using a network of remote servers hosted on the Internet to store, manage, and process data, rather than a local server or a personal computer."
      ],
      "metadata": {
        "id": "rggTYXhGweXQ"
      }
    },
    {
      "cell_type": "markdown",
      "source": [
        "On-Premises\n",
        "\n",
        "* You own the servers\n",
        "* You hire the IT people"
      ],
      "metadata": {
        "id": "1pnvIURIwsM6"
      }
    },
    {
      "cell_type": "markdown",
      "source": [
        "Cloud Providers\n",
        "\n",
        "* Someone else owns the servers\n",
        "* Someone else hires the IT people\n",
        "* You are responsible for your configuring cloud services and code, someone else takes care of the rest."
      ],
      "metadata": {
        "id": "mzloZuVJwyT0"
      }
    },
    {
      "cell_type": "markdown",
      "source": [
        "**Evolution to Cloud Hosting**\n",
        "\n",
        "**Dedicated Server**\n",
        "\n",
        "* One physical machine dedicated to single a business.\n",
        "* Runs a single web-app/site.\n",
        "* Very Expensive, High Maintenance, High Security*\n",
        "\n",
        "**Virtual Private Server**\n",
        "* One physical machine dedicated to a single business.\n",
        "* The physical machine is virtualized into sub-machines\n",
        "* Runs multiple web-apps/sites\n",
        "\n",
        "**Shared Hosting**\n",
        "* One physical machine, shared by hundreds of businesses\n",
        "* Relies on most tenants under-utilizing their resources.\n",
        "* Very Cheap, Very Limited.\n",
        "\n",
        "**Cloud Hosting**\n",
        "* Multiple physical machines that act as one system.\n",
        "* The system is abstracted into multiple cloud services\n",
        "* Flexible, Scalable, Secure, Cost-Effective, High Configurability"
      ],
      "metadata": {
        "id": "MkNHcXnqw4Qx"
      }
    },
    {
      "cell_type": "markdown",
      "source": [
        "**Common Cloud Services**\n",
        "\n",
        "A cloud provider can have hundreds of cloud services that are grouped into various types of services. The four most common types of cloud services for Infrastructure as a Service (IaaS) would be:\n",
        "\n",
        "1. **Compute**\n",
        "\n",
        "Imagine having a virtual computer that can run applications, programs, and code.\n",
        "\n",
        "2. **Networking**\n",
        "\n",
        "Imagine having a virtual network being able to define internet connections or network isolations\n",
        "\n",
        "3. **Storage**\n",
        "\n",
        "Imagine having a virtual hard drive that can store files\n",
        "\n",
        "4. **Databases**\n",
        "Imagine a virtual database for storing reporting data or a database for general-purpose web-application\n"
      ],
      "metadata": {
        "id": "tGEP4hInxQ3Z"
      }
    },
    {
      "cell_type": "markdown",
      "source": [
        "**What is Azure?**\n",
        "\n",
        "Microsoft calls their cloud provider service **Microsoft Azure**. \n",
        "Commonly referred to just Azure"
      ],
      "metadata": {
        "id": "43uDbgNgx2mD"
      }
    },
    {
      "cell_type": "markdown",
      "source": [
        "**Benefits of Cloud Computing**\n",
        "\n",
        "1. **Cost-effective:** <br>\n",
        "Pay-as-you-go (PAYG) thousands of customers sharing the cost of the resources\n",
        "\n",
        "2. **Global**: <br>\n",
        "Launch workloads anywhere in the world, just choose a region\n",
        "\n",
        "3. **Secure** :<br>\n",
        "Cloud provider takes care of physical security. \n",
        "\n",
        "4. **Reliable** :<br>\n",
        "data backup, disaster recovery, and data replication, and fault tolerance\n",
        "5. **Scalable** :<br>\n",
        "Increase or decrease resources and services based on demand\n"
      ],
      "metadata": {
        "id": "_lIVkn1OyBnW"
      }
    },
    {
      "cell_type": "markdown",
      "source": [
        "**Types of Cloud Computing**"
      ],
      "metadata": {
        "id": "J3_34igsy4n7"
      }
    },
    {
      "cell_type": "markdown",
      "source": [
        "**Software as a Service (SaaS) For Customers**\n",
        "\n",
        "A product that is run and managed by the service provider. It just works and remains available.\n",
        "\n",
        "examples of SaaS:\n",
        "\n",
        "1. Salesforce\n",
        "2. Gmail\n",
        "3. Office 365"
      ],
      "metadata": {
        "id": "twOCu4ePy55K"
      }
    },
    {
      "cell_type": "markdown",
      "source": [
        "**Platform as a Service (PaaS) For Developers**\n",
        "\n",
        "Focus on the deployment and management of your apps. \n",
        "\n",
        "examples of PaaS\n",
        "\n",
        "1. AWS Elastic Beanstalk\n",
        "2. Heroku\n",
        "3. Google App Engine\n",
        "4. Azure App Service\n",
        "5. Azure Functions\n",
        "6. Container Instances\n",
        "7. SQL Database"
      ],
      "metadata": {
        "id": "pk3nCpDGzGkB"
      }
    },
    {
      "cell_type": "markdown",
      "source": [
        "**Infrastructure as a Service (IaaS) For Admins**\n",
        "\n",
        "The basic building blocks for cloud IT.  Provides access to networking features, computers, and data storage space. \n",
        "\n",
        "examples of IaaS\n",
        "\n",
        "1. Microsoft Azure\n",
        "2. Amazon Web Services (AWS)\n",
        "3. Google Cloud Provider (GCP)\n",
        "4. Oracle Cloud"
      ],
      "metadata": {
        "id": "B9n7uxIgzR2t"
      }
    },
    {
      "cell_type": "markdown",
      "source": [
        "**Azure's Deployment Models**\n",
        "\n",
        "**Public Cloud**<br>\n",
        "\n",
        "Everything built on the Cloud Provider. Also known as Cloud-Native\n",
        "\n",
        "**Private Cloud**\n",
        "\n",
        "Everything built on the company's data centers. Also known as On-Premise. The cloud could be OpenStack\n",
        "\n",
        "**Hybrid**\n",
        "\n",
        "Using both On-Premise and a Cloud Service Provider\n",
        "\n",
        "**Cross-Cloud**\n",
        "\n",
        "Using Multiple Cloud Providers Aka multi-cloud, hybrid-cloud"
      ],
      "metadata": {
        "id": "QNAG5qmAzgtV"
      }
    },
    {
      "cell_type": "markdown",
      "source": [
        "**What is Total Cost of Ownership?**\n",
        "\n",
        "Total cost of ownership (TCO) is a financial estimate intended to help buyers and owners determine the direct and indirect costs of a product or system. "
      ],
      "metadata": {
        "id": "de8MciZw06_x"
      }
    },
    {
      "cell_type": "markdown",
      "source": [
        "**CAPEX vs OPEX**\n",
        "\n",
        "**Capital Expenditure (CAPEX)**\n",
        "\n",
        "Spending money upfront on physical infrastructure Deducting that expense from your tax bill over time.\n",
        "\n",
        "* Server Costs (computers)\n",
        "* Storage Costs (hard drives)\n",
        "* Network Costs (Routers, Cables, Switches)\n",
        "* Backup and Archive Costs\n",
        "* Disaster Recovery Costs\n",
        "With Capital Expenses, you have to guess upfront what you plan to spend\n",
        "\n",
        "**Operational Expenditure (OPEX)**\n",
        "\n",
        "The costs associated with an on-premises data center that has shifted the cost to the service provider. The customer only has to be concerned with non-physical costs.\n",
        "\n",
        "* Leasing Software and Customizing features\n",
        "* Training Employees in Cloud Services\n",
        "* Paying for Cloud Support\n",
        "* Billing based on cloud metrics eg.\n",
        "    * compute usage\n",
        "    * storage usage\n",
        "With Operation Expenses you can try a product or service without investing in equipment"
      ],
      "metadata": {
        "id": "rrz3RDG40PON"
      }
    },
    {
      "cell_type": "markdown",
      "source": [
        "**Cloud Architecture Terminologies**\n",
        "\n",
        "1. **Availability** \n",
        "Your ability to ensure service remains available - Highly Available (HA)\n",
        "\n",
        "2. **Scalability** \n",
        "Your ability to grow rapidly or unimpeded\n",
        "\n",
        "3. **Elasticity** \n",
        "Your ability to shrink and grow to meet the demand\n",
        "\n",
        "4. **Fault Tolerance**\n",
        "Your ability to prevent a failure\n",
        "\n",
        "5. **Disaster Recovery** \n",
        "Your ability to recover from failure - Highly Durable (DR)"
      ],
      "metadata": {
        "id": "nUYeMz1k10mr"
      }
    },
    {
      "cell_type": "markdown",
      "source": [
        "**What is High Availability (HA)?**\n",
        "\n",
        "Your ability for your service to remain available by ensuring there is no single point of failure and/or ensure a certain level of performance\n",
        "\n",
        "**How can you achieve High Availability?**\n",
        "\n",
        "Running your workload across multiple Availability Zones ensures that if 1 or 2 AZs become unavailable your service/applications remain available.\n",
        "\n",
        "**How can High Availability be implemented on Azure?**\n",
        "\n",
        "Using Azure Load Balancer would assist in implementing High Availability\n",
        "\n",
        "A load balancer allows you to evenly distribute traffic to multiple servers in one or more datacenter. If a datacenter or server becomes unavailable (unhealthy) the load balancer will route the traffic to only available datacenters with servers."
      ],
      "metadata": {
        "id": "9OqWD2Jg2Nv8"
      }
    },
    {
      "cell_type": "markdown",
      "source": [
        "**What is High Scalability?**\n",
        "\n",
        "Your ability to increase your capacity based on the increasing demand of traffic, memory and computing power\n",
        "\n",
        "**How is High Scalability defined?**\n",
        "\n",
        "**Vertical Scalin**g is known as Scaling Up and Down, which means changing the capacity of a resource. For example, you could move an application to a larger VM size.\n",
        "\n",
        "    * Vertical scaling has more limitations.\n",
        "\n",
        "**Horizontal Scaling** is known as Scaling Out and In means adding or removing instances of a resource.\n",
        "\n",
        "    * The application continues running without interruption as new resources are provisioned.\n"
      ],
      "metadata": {
        "id": "uWIH-_0S2xQe"
      }
    },
    {
      "cell_type": "markdown",
      "source": [
        "**What is High Elasticity?**\n",
        "\n",
        "Your ability to automatically increase or decrease your capacity based on the current demand of traffic, memory and computing power\n",
        "\n",
        "**How is Elasticity achieved?**\n",
        "\n",
        "Elasticity relies on Horizontal Scaling. Vertical Scaling is generally hard for traditional architecture so you’ll usually only see horizontal scaling described with Elasticity.\n",
        "\n",
        "Scaling Out — Add more servers of the same size Scaling In — Removing more servers of the same size\n",
        "\n",
        "**How can Elasticity be implemented in Azure?**\n",
        "\n",
        "**Azure VM Scale Sets**\n",
        "\n",
        "Automatically increase or decrease in response to demand or a defined schedule.\n",
        "\n",
        "**SQL Server Stretch Database**\n",
        "\n",
        "Dynamically stretch warm and cold transactional data from Microsoft SQL Server 2016 to Microsoft Azure"
      ],
      "metadata": {
        "id": "LJtDG-zQ3F1O"
      }
    },
    {
      "cell_type": "markdown",
      "source": [
        "**What is High Durability?**\n",
        "\n",
        "Your ability to recover from a disaster and to prevent the loss of data Solutions that recover from a disaster is known as **Disaster Recovery (DR)**"
      ],
      "metadata": {
        "id": "s13NCeyG3z09"
      }
    },
    {
      "cell_type": "markdown",
      "source": [
        "### Evolution of Compute\n",
        "\n",
        "**Dedicated Servers**\n",
        "\n",
        "* A physical server wholly utilized by a single customer.\n",
        "* You are limited by your Operating System\n",
        "* Multiple apps can result in conflicts in resource sharing\n",
        "\n",
        "\n",
        "**Virtual Machines** \n",
        "\n",
        "* You can run multiple Virtual Machines on one machine.\n",
        "* Hypervisor is the software layer that lets you the VMs\n",
        "* A physical server shared by multiple customers\n",
        "* Multiple apps on a single Virtual Machine can result in conflicts in resource sharing\n",
        "\n",
        "**Containers**\n",
        "\n",
        "* Virtual Machine running multiple containers\n",
        "* Docker Deamon is the name of the software layer that lets you run multiple containers.\n",
        "* Multiple apps can run side by side without being limited to the same OS requirements and will not cause conflicts during resource sharing.\n",
        "\n",
        "**Functions**\n",
        "\n",
        "* A managed VMs running managed containers.\n",
        "* Known as Serverless Compute\n",
        "* You upload a piece of code choose the amount of memory and duration. \n",
        "* Very cost-effective, only pay for the time code is running, VMs only run when there is code to be executed\n",
        "\n"
      ],
      "metadata": {
        "id": "n-FVGbua33ZE"
      }
    },
    {
      "cell_type": "markdown",
      "source": [
        "**What is a Region?**\n",
        "\n",
        "A region is a grouping of multiple datacenters (Availability Zones)\n",
        "\n",
        "Azure has 60+ Region available across 140 Countries\n",
        "\n",
        "**What is a Geography?**\n",
        "\n",
        "A Geography is a discreet market of two or more regions that preserves data residency and compliance boundaries.\n",
        "\n",
        "\n",
        "**Azure Geographies**\n",
        "\n",
        "* United States\n",
        "* Azure Government (US)\n",
        "* Canada\n",
        "* Brazil\n",
        "* Mexico"
      ],
      "metadata": {
        "id": "bdo_UA2z6Oax"
      }
    },
    {
      "cell_type": "markdown",
      "source": [
        "**Paired Regions**\n",
        "\n",
        "Each region is paired with another region 300 miles away.\n",
        "\n",
        "Only one region is updated at a time to ensure no outages\n",
        "\n",
        "Some Azure Services rely on Paired Regions for Disaster Recovery"
      ],
      "metadata": {
        "id": "ZRB3almQ6uAa"
      }
    },
    {
      "cell_type": "markdown",
      "source": [
        "**Availability Zones**\n",
        "\n",
        "An Availability Zone (AZ) is a physical location made up of one or more datacenter.\n",
        "\n",
        "A datacenter is a secured building that contains hundreds of thousands of computers.\n",
        "\n",
        "A region will *generally contain 3 Availability Zones\n",
        "\n",
        "Datacenters within a region will be isolated from each other (so different buildings). But they will be close enough to provide low-latency.\n",
        "\n",
        "Its common practice to run workloads in at least 3 AZs to ensure services remain available in case one or two data centers fail. (High Availability)"
      ],
      "metadata": {
        "id": "CwAlYDUq7CXh"
      }
    },
    {
      "cell_type": "markdown",
      "source": [
        "**AZ Supported Regions**\n",
        "\n",
        "Not Every Region has support for Availability Zone. These regions are known as **Alternate or Other**\n",
        "\n",
        "Recommended Regions are supposed to have at least 3 AZs."
      ],
      "metadata": {
        "id": "iwsULyWY8Uea"
      }
    },
    {
      "cell_type": "markdown",
      "source": [
        "**Availability Sets Fault and Update Domains**\n",
        "\n",
        "An Availability Zone (AZ) in an Azure region is a combination of a fault domain and an update domain.\n",
        "\n",
        "**Fault Domain**\n",
        "\n",
        "A logical grouping of hardware to avoid a single point of failure within an AZ. group of virtual machines that share a common power source and network switch. \n",
        "\n",
        "**Update Domain**\n",
        "\n",
        "Azure may need to apply updates to the underlying hardware and software. Update domains ensure your resources do not go offline.\n",
        "\n",
        "**Availability Set**\n",
        "\n",
        "A logical grouping that you can use in Azure to ensure that the VMs you place in the Availability Set are different fault/update domains to avoid downtime."
      ],
      "metadata": {
        "id": "X-p5ZLVg8hZg"
      }
    },
    {
      "cell_type": "markdown",
      "source": [
        "**Computing Services**\n",
        "\n",
        "**Azure Virtual Machine**\n",
        "\n",
        "* Windows or Linux virtual machines (VMs). The most common type of computing.\n",
        "* You choose your OS, Memory, CPU, Storage. You share hardware with other customers.\n",
        "\n",
        "**Azure Container Instances**\n",
        "\n",
        "* Docker as a Service Run containerized apps on Azure without provisioning servers or VMs\n",
        "\n",
        "**Azure Kubernetes Service (AKS)**\n",
        "* Kubernetes as a Service. Easy to deploy, manage and scale containerized applications.\n",
        "* Uses the open-source Kubernetes (K8) software.\n",
        "\n",
        "**Azure Service Fabric**\n",
        "* Tier-1 Enterprise Containers as a Service\n",
        "* Distributed systems platform. Runs in Azure or on-premises.\n",
        "* Easy to package, deploy, and manage scalable and reliable microservices.\n",
        "\n",
        "**Azure Functions**\n",
        "* Event-driven, serverless compute (functions) run code without provisioning or managing servers.\n",
        "* You pay only for the compute time you consume.\n",
        "\n",
        "**Azure Batch**\n",
        "* Plans, schedules and executes your batch computing workloads across running 100+ jobs in parallel.\n",
        "* Use Spot VMs to save money (previously used Low-priority VMs to save on computing)"
      ],
      "metadata": {
        "id": "HPdvAjwK9AAq"
      }
    },
    {
      "cell_type": "markdown",
      "source": [
        "**Storage Services**\n",
        "\n",
        "**Azure Blob Storage**\n",
        "\n",
        "Object Serverless Storage. Store very large files and large amounts of unstructured files. Pay for what you store, unlimited storage, no-resizing volumes, filesystem protocols.\n",
        "\n",
        "**Azure Disk Storage**\n",
        "\n",
        "A virtual volume. Choose SSD or HDD, encryption by default, attach the volume to VMs\n",
        "\n",
        "**Azure File Storage/Azure Files**\n",
        "\n",
        "A shared volume that you can access and manage like a file server. eg SMB\n",
        "\n",
        "**Azure Data Lake Storage**\n",
        "\n",
        "A centralized repository that allows you to store all your structured and unstructured data at any scale.\n",
        "\n"
      ],
      "metadata": {
        "id": "_Jr3pJe4WrRl"
      }
    },
    {
      "cell_type": "markdown",
      "source": [
        "**Database Services**\n",
        "\n",
        "**Azure Cosmos DB**\n",
        "\n",
        "A fully managed NoSQL database. Designed for scale with a guarantee of 99.999% availability.\n",
        "\n",
        "**Azure SQL Database**\n",
        "\n",
        "Fully managed MS SQL database with auto-scale, integral intelligence, and robust security\n",
        "\n",
        "**Azure Synapse Analytics (Azure SQL Data Warehouse)**\n",
        "\n",
        "Fully managed data warehouse with integral security at every level of scale at no extra cost.\n",
        "\n",
        "\n",
        "\n",
        "\n"
      ],
      "metadata": {
        "id": "VDwhkgnEYB5Y"
      }
    },
    {
      "cell_type": "markdown",
      "source": [
        "**Application Integration**\n",
        "\n",
        "**Azure API Apps**\n",
        "\n",
        "API Gateway Quickly build and consume APIs in the cloud. Route APIs to Azure Services\n",
        "\n",
        "**Azure Logic Apps**\n",
        "\n",
        "Schedule, automate and orchestrate tasks, business processes and workflows. Integration with Enterprise SaaS and Enterprise applications.\n",
        "\n"
      ],
      "metadata": {
        "id": "LNzA_jnfaOBD"
      }
    },
    {
      "cell_type": "markdown",
      "source": [
        "**Developer and Mobile Tools**\n",
        "\n",
        "**Azure App Service**\n",
        "Easy to use service for deploying and scaling web-applications with .Net, Node.js Java, Python and PHP Developer focus on building their web-apps, and not worry about the underlying infrastructure\n"
      ],
      "metadata": {
        "id": "JofvtYiba3wS"
      }
    },
    {
      "cell_type": "markdown",
      "source": [
        "**Azure DevOps Services**\n",
        "\n",
        "**Azure DevOps**\n",
        "\n",
        "Plan smarter, collaborate and ship faster with a set of modern dev services.\n",
        "\n",
        "**Azure Repos**\n",
        "\n",
        "Get unlimited, cloud-hosted private Git repos and collaborate to build better code with pull requests and advanced file management.\n",
        "\n",
        "\n",
        "**Azure Artifacts**\n",
        "\n",
        "Create, host, and share packages with your team, and add artifacts to CI/CD pipelines with a single click.\n",
        "\n",
        "**Azure DevTest Labs**\n",
        "\n",
        "Fast, easy, and lean dev-test environments"
      ],
      "metadata": {
        "id": "_zLw4q7jcPkB"
      }
    },
    {
      "cell_type": "markdown",
      "source": [
        "**Azure Resource Manager (ARM)**\n",
        "\n",
        "**What is Infrastructure as code (IaC)?**\n",
        "\n",
        "The process of managing and provisioning computer data centers through machine-readable definition files, rather than physical hardware configuration or interactive configuration tools.\n",
        "\n",
        "Azure Resource Manager (ARM) allows you to programmatically create Azure resources via JSON template."
      ],
      "metadata": {
        "id": "iaV564w2cuEa"
      }
    },
    {
      "cell_type": "markdown",
      "source": [
        "**Azure Quickstart Templates**\n",
        "\n",
        "Azure QuickStart is a library of pre-made ARM templates provided by the community and partners to help you quickly launch new projects."
      ],
      "metadata": {
        "id": "eTdkCokJdBGQ"
      }
    },
    {
      "cell_type": "markdown",
      "source": [
        "**VNets and Subnets**\n",
        "\n",
        "**What is a VNet?**\n",
        "\n",
        "Virtual Network (VNet) is a logically isolated section of the Azure Network where you launch your Azure resources. You choose a **range of IPs using CIDR Range**\n",
        "\n",
        "**What is a Subnet?**\n",
        "\n",
        "Subnets are a logical partition of an IP network into multiple smaller network segments. You are breaking up your IP range for VNet into smaller networks.\n",
        "\n",
        "Subnets **need to have a smaller CIDR range than the VNet** represent their portion. eg Subnet CIDR Range 10.0.0.0/24 = 256 IP Addresses\n",
        "\n",
        "**Types of Subnets**\n",
        "\n",
        "* A Public Subnet is one that can reach the internet.\n",
        "* A Private Subnet is one that cannot reach the internet."
      ],
      "metadata": {
        "id": "M78aFpCWdSXp"
      }
    },
    {
      "cell_type": "markdown",
      "source": [
        "**Cloud-Native Networking Services**\n",
        "\n",
        "**Azure DNS**\n",
        "\n",
        "Provides ultra-fast DNS responses and ultra-high domain availability\n",
        "\n",
        "**Azure Virtual Network (vNET)**\n",
        "\n",
        "A logical isolated section of the Azure network for customers to launch Azure resources within.\n",
        "\n",
        "**Azure Load Balancer**\n",
        "\n",
        "OSI Level 4 (Transport) Load Balancer\n",
        "\n",
        "**Azure Application Gateway**\n",
        "\n",
        "OSI Level 7 (HTTP) Load Balancer, can apply a Web Application Firewall\n",
        "\n",
        "**Network Security Groups**\n",
        "\n",
        "A virtual firewall at the subnet level"
      ],
      "metadata": {
        "id": "BJkjnpI-d8kb"
      }
    },
    {
      "cell_type": "markdown",
      "source": [
        "**Enterprise/Hybrid Networking Services**\n",
        "\n",
        "**Azure Front Door**\n",
        "\n",
        "The scalable and secure entry point for the fast delivery of your global applications.\n",
        "\n",
        "**Azure Express Route**\n",
        "\n",
        "A connection between your on-premise to Azure cloud from 50 Mbps to 10 Gbps.\n",
        "\n"
      ],
      "metadata": {
        "id": "9u-jp6eMeZWj"
      }
    },
    {
      "cell_type": "markdown",
      "source": [
        "**Azure Traffic Manager**\n",
        "\n",
        "Azure Traffic Manager operates at the DNS layer to quickly and efficiently direct incoming DNS requests based on the routing method of your choice. \n",
        "\n",
        "* Route traffic to servers the geographically nearby to reduce latency\n",
        "* Fail-over to redundant systems in case primary systems become unhealthy.\n",
        "* Route to random VM to simulate A/B testing"
      ],
      "metadata": {
        "id": "jH6TDL-qevuD"
      }
    },
    {
      "cell_type": "markdown",
      "source": [
        "**Azure DNS**\n",
        "\n",
        "Azure DNS allows you to host your domains names on Azure. You can create DNS Zones and manage your DNS records.\n"
      ],
      "metadata": {
        "id": "2am8P9K6e6o6"
      }
    },
    {
      "cell_type": "markdown",
      "source": [
        "**Azure Load Balancer**\n",
        "\n",
        "Azure Load Balancer is used for evenly distributing incoming network traffic across a group of backend resources or servers.\n",
        "\n",
        "Azure Load Balancer operates on OSI Layer 4 (Transport)\n",
        "\n",
        "You can create a:\n",
        "\n",
        "* Public Load Balancer incoming traffic from the internet to public-facing servers (Public IPs)\n",
        "* Internal (Private) Load Balancer incoming internal network traffic to private-facing servers (Private IPs)"
      ],
      "metadata": {
        "id": "SN9jmr8WfCyj"
      }
    },
    {
      "cell_type": "markdown",
      "source": [
        "**Scale Sets**\n",
        "\n",
        "Scale Sets allows you to group together identical Virtual Machines (VMs) and **automatically increase or decrease the amount of servers **based on:\n",
        "\n",
        "* change in CPU, memory, disk, and network performance.\n",
        "* on a predefined schedule."
      ],
      "metadata": {
        "id": "ktKIPGlrfNVR"
      }
    },
    {
      "cell_type": "markdown",
      "source": [
        "**IoT Services**\n",
        "\n",
        "**What is the Internet of Things (IoTs)?**\n",
        "\n",
        "A network of Internet-connected objects (usually hardware) is able to collect and exchange data.\n",
        "\n",
        "Here are some examples of IoT devices:\n",
        "\n",
        "* Smart Bulbs\n",
        "* Security Cameras\n",
        "* Voice Command Speakers\n",
        "* Drones\n",
        "\n",
        "**IoT Services on Azure**\n",
        "\n",
        "**IoT Central**\n",
        "\n",
        "Connects your IoT devices to the cloud\n",
        "\n",
        "**IoT Hub**\n",
        "\n",
        "Enable highly secure and reliable communication between your IoT application and the devices it manages\n",
        "\n",
        "**IoT Edge**\n",
        "\n",
        "A fully managed service built on Azure IoT Hub. It allows data processing and analysis nearest the IoT devices. Edge computing is when you offload compute from the cloud to local computing hardware such as IoT devices, phones, or home computers"
      ],
      "metadata": {
        "id": "Kr5Rdy7bfmub"
      }
    },
    {
      "cell_type": "markdown",
      "source": [
        "**Big Data and Analytics Services**\n",
        "\n",
        "**What is BigData?**\n",
        "\n",
        "A term used to describe massive volumes of structured/unstructured data that is so large it is difficult to move and process using traditional database and software techniques.\n",
        "\n",
        "**Azure Synapse Analytics (formally known as SQL Data Warehouse)**\n",
        "* Enterprise data warehousing and Big Data analytics.\n",
        "* Intended to run SQL queries against large databases for things such as reporting.\n",
        "\n",
        "**Azure Databricks**\n",
        "\n",
        "* An Apache Spark-based analytics platform optimized for the Microsoft Azure cloud services platform.\n",
        "* Third-Party Databricks cloud services supported within Azure.\n",
        "\n",
        "**Data Lake Analytics**\n",
        "* An on-demand analytics job service that simplifies big data.\n",
        "* A data lake is a storage repository that holds a vast amount of raw data in its native format until it is needed."
      ],
      "metadata": {
        "id": "hD5Xgf6FgJAU"
      }
    },
    {
      "cell_type": "markdown",
      "source": [
        "**Serverless Services**\n",
        "\n",
        "**What is Serverless?**\n",
        "\n",
        "When the underlying servers, infrastructure, and OS is taken care of by the Cloud Service Provider (CSP) It will generally be highly available, scalable, and cost-effective.\n",
        "\n",
        "    * Event-Driven Scale\n",
        "      \n",
        "      A serverless function can be triggered or trigger other events allowing you to compose complex applications and its just scales.\n",
        "\n",
        "    * Abstraction of Servers\n",
        "\n",
        "      Servers are abstracted away. Your code is described as functions. These functions can be running on different compute instances.\n",
        "\n",
        "    * Micro-Billing\n",
        "      \n",
        "      Serverless compute could run for a fraction of a second. Billing into micro-seconds will save you money."
      ],
      "metadata": {
        "id": "7KQpFquYgtwb"
      }
    },
    {
      "cell_type": "markdown",
      "source": [
        "**Azure Trust Center**\n",
        "\n",
        "Azure Trust Center is a public-facing website portal providing easy access to privacy and security and regulatory compliance information."
      ],
      "metadata": {
        "id": "jHvN-wjmiZOc"
      }
    },
    {
      "cell_type": "markdown",
      "source": [
        "**Azure Active Directory**\n",
        "\n",
        "**Azure Active Directory (Azure AD)** is Microsoft's cloud-based identity and access management service, which helps your employees sign in and access resources.\n",
        "\n",
        "**External Resources **\n",
        "\n",
        "* Microsoft Office 365\n",
        "* Azure Portal\n",
        "* SaaS applications\n",
        "\n",
        "**Internal Resources**\n",
        "\n",
        "* Applications within your internal networking\n",
        "* Access to workstations on-premise\n",
        "Use Azure AD to implement Single-Sign On (SSO)"
      ],
      "metadata": {
        "id": "CgrvC1Uh9Djd"
      }
    },
    {
      "cell_type": "markdown",
      "source": [
        "**Multi-Factor Authentication**\n",
        "\n",
        "**What is Multi-Factor Authentication (MFA)?**\n",
        "\n",
        "A security control where after you fill in your username/email and password, you have to use a second device such as a phone to confirm that it's you logging in.\n",
        "\n",
        "MFA protects against people who have stolen your password.\n",
        "\n",
        "MFA is an option in most cloud providers and even social media websites such as Facebook"
      ],
      "metadata": {
        "id": "ULD681nzgsXV"
      }
    },
    {
      "cell_type": "markdown",
      "source": [
        "**Azure Firewall**\n",
        "\n",
        "Azure Firewall is a managed, cloud-based network security service that protects your Azure Virtual Network resources"
      ],
      "metadata": {
        "id": "6jYsgg5bDveC"
      }
    },
    {
      "cell_type": "markdown",
      "source": [
        "**Microsoft Security Development Lifecycle (SDL)**\n",
        "\n",
        "Microsoft Security Development Lifecycle (SDL) is an industry-leading software security assurance process."
      ],
      "metadata": {
        "id": "3keGzRGxE_WR"
      }
    },
    {
      "cell_type": "markdown",
      "source": [
        "**Lock resources**\n",
        "\n",
        "As an admin, you may need to lock a subscription, resource group, or resource to prevent other users from accidentally deleting or modifying critical resources.\n",
        "\n",
        "In the Azure Portal, you can set the following lock levels.\n",
        "\n",
        "**CanNotDelete (Delete)**\n",
        "\n",
        "authorized users can still read and modify a resource, but they can't delete the resource.\n",
        "\n",
        "**ReadOnly (Read-only)**\n",
        "\n",
        "authorized users can read a resource, but they can't delete or update the resource"
      ],
      "metadata": {
        "id": "ZkLqEw21HNio"
      }
    }
  ]
}